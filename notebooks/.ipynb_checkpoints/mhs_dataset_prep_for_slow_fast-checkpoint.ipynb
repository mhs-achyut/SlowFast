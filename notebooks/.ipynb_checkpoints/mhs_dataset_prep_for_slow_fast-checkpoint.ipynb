{
 "cells": [
  {
   "cell_type": "code",
   "execution_count": 1,
   "metadata": {},
   "outputs": [],
   "source": [
    "import os\n",
    "import json"
   ]
  },
  {
   "cell_type": "code",
   "execution_count": 2,
   "metadata": {},
   "outputs": [],
   "source": [
    "from sklearn.model_selection import train_test_split"
   ]
  },
  {
   "cell_type": "code",
   "execution_count": 3,
   "metadata": {},
   "outputs": [],
   "source": [
    "dataset_input_folder_path = '/home/achbogga/projects/SlowFast/data/Mhs_video_data'"
   ]
  },
  {
   "cell_type": "code",
   "execution_count": 4,
   "metadata": {},
   "outputs": [],
   "source": [
    "output_folder_path = dataset_input_folder_path"
   ]
  },
  {
   "cell_type": "code",
   "execution_count": 5,
   "metadata": {},
   "outputs": [],
   "source": [
    "all_classes = os.listdir(dataset_input_folder_path)\n",
    "label_map_dict = dict(enumerate(all_classes))\n",
    "reverse_label_map_dict = dict([(label_map_dict[i],i) for i in range(len(all_classes))])"
   ]
  },
  {
   "cell_type": "code",
   "execution_count": 6,
   "metadata": {},
   "outputs": [
    {
     "data": {
      "text/plain": [
       "{0: 'blow_away',\n",
       " 1: 'fly_away',\n",
       " 2: 'intervention',\n",
       " 3: 'damage_cat1',\n",
       " 4: 'damage_cat2',\n",
       " 5: 'damage_cat3',\n",
       " 6: 'damage_cat_out_of_spec',\n",
       " 7: 'crash'}"
      ]
     },
     "execution_count": 6,
     "metadata": {},
     "output_type": "execute_result"
    }
   ],
   "source": [
    "label_map_dict"
   ]
  },
  {
   "cell_type": "code",
   "execution_count": 7,
   "metadata": {},
   "outputs": [
    {
     "data": {
      "text/plain": [
       "{'blow_away': 0,\n",
       " 'fly_away': 1,\n",
       " 'intervention': 2,\n",
       " 'damage_cat1': 3,\n",
       " 'damage_cat2': 4,\n",
       " 'damage_cat3': 5,\n",
       " 'damage_cat_out_of_spec': 6,\n",
       " 'crash': 7}"
      ]
     },
     "execution_count": 7,
     "metadata": {},
     "output_type": "execute_result"
    }
   ],
   "source": [
    "reverse_label_map_dict"
   ]
  },
  {
   "cell_type": "code",
   "execution_count": 8,
   "metadata": {},
   "outputs": [],
   "source": [
    "with open(output_folder_path+'/label_map_dict.json', 'w') as fp:\n",
    "    fp.write(json.dumps(label_map_dict))\n",
    "with open(output_folder_path+'/classids.json', 'w') as fp:\n",
    "    fp.write(json.dumps(reverse_label_map_dict))"
   ]
  },
  {
   "cell_type": "code",
   "execution_count": 9,
   "metadata": {},
   "outputs": [],
   "source": [
    "all_video_paths = []\n",
    "all_labels = []"
   ]
  },
  {
   "cell_type": "code",
   "execution_count": 10,
   "metadata": {},
   "outputs": [],
   "source": [
    "for cls in all_classes:\n",
    "    cls_path = dataset_input_folder_path+'/'+cls\n",
    "    all_cls_videos = os.listdir(cls_path)\n",
    "    all_cls_video_paths = [cls_path+'/'+video_name for video_name in all_cls_videos]\n",
    "    for cls_video_path in all_cls_video_paths:\n",
    "        all_video_paths.append(cls_video_path)\n",
    "        all_labels.append(reverse_label_map_dict[cls])"
   ]
  },
  {
   "cell_type": "code",
   "execution_count": 11,
   "metadata": {},
   "outputs": [],
   "source": [
    "X_train, X_test, y_train, y_test = \\\n",
    "                 train_test_split(all_video_paths, all_labels, test_size=0.2, random_state=99)\n",
    "X_train, X_val, y_train, y_val = \\\n",
    "                 train_test_split(X_train, y_train, test_size=0.25, random_state=99)"
   ]
  },
  {
   "cell_type": "code",
   "execution_count": 12,
   "metadata": {},
   "outputs": [],
   "source": [
    "with open(output_folder_path+'/train.csv', 'w') as fp:\n",
    "    fp.writelines([X_train[i]+','+str(y_train[i])+'\\n' for i in range(len(X_train))])\n",
    "with open(output_folder_path+'/val.csv', 'w') as fp:\n",
    "    fp.writelines([X_val[i]+','+str(y_val[i])+'\\n' for i in range(len(X_val))])\n",
    "with open(output_folder_path+'/test.csv', 'w') as fp:\n",
    "    fp.writelines([X_test[i]+','+str(y_test[i])+'\\n' for i in range(len(X_test))])"
   ]
  },
  {
   "cell_type": "code",
   "execution_count": null,
   "metadata": {},
   "outputs": [],
   "source": []
  }
 ],
 "metadata": {
  "kernelspec": {
   "display_name": "slow_fast",
   "language": "python",
   "name": "slow_fast"
  },
  "language_info": {
   "codemirror_mode": {
    "name": "ipython",
    "version": 3
   },
   "file_extension": ".py",
   "mimetype": "text/x-python",
   "name": "python",
   "nbconvert_exporter": "python",
   "pygments_lexer": "ipython3",
   "version": "3.8.5"
  }
 },
 "nbformat": 4,
 "nbformat_minor": 4
}
